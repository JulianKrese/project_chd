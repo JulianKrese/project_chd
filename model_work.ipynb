{
  "cells": [
    {
      "cell_type": "markdown",
      "id": "b1bace51-d646-4ab1-abdf-4e2e65a091c8",
      "metadata": {
        "id": "b1bace51-d646-4ab1-abdf-4e2e65a091c8"
      },
      "source": [
        "# Models Work"
      ]
    },
    {
      "cell_type": "code",
      "source": [
        "!git clone https://github.com/JulianKrese/project_chd"
      ],
      "metadata": {
        "id": "CKMvBkesbCB_",
        "outputId": "4eab1d9c-4c88-4099-a205-ac11ec353d3a",
        "colab": {
          "base_uri": "https://localhost:8080/"
        }
      },
      "id": "CKMvBkesbCB_",
      "execution_count": 2,
      "outputs": [
        {
          "output_type": "stream",
          "name": "stdout",
          "text": [
            "Cloning into 'project_chd'...\n",
            "remote: Enumerating objects: 38, done.\u001b[K\n",
            "remote: Counting objects: 100% (9/9), done.\u001b[K\n",
            "remote: Compressing objects: 100% (7/7), done.\u001b[K\n",
            "remote: Total 38 (delta 5), reused 2 (delta 2), pack-reused 29\u001b[K\n",
            "Receiving objects: 100% (38/38), 1.52 MiB | 5.49 MiB/s, done.\n",
            "Resolving deltas: 100% (14/14), done.\n"
          ]
        }
      ]
    },
    {
      "cell_type": "code",
      "execution_count": 4,
      "id": "8yzZ57XtmyC-",
      "metadata": {
        "colab": {
          "base_uri": "https://localhost:8080/"
        },
        "id": "8yzZ57XtmyC-",
        "outputId": "3c5a632c-35fb-4149-99ab-af6ca1a5ad8b"
      },
      "outputs": [
        {
          "output_type": "stream",
          "name": "stdout",
          "text": [
            "   Unnamed: 0  sex  age  currentSmoker  cigsPerDay  BPMeds  prevalentStroke  \\\n",
            "0        1267    1   58              0           0       0                0   \n",
            "1        1209    0   40              1          15       0                0   \n",
            "2        1183    1   38              1          43       0                0   \n",
            "3        3225    0   43              0           0       0                0   \n",
            "4        1054    0   54              0           0       0                0   \n",
            "\n",
            "   prevalentHyp  diabetes  totChol  sysBP  diaBP    BMI  heartRate  glucose  \\\n",
            "0             0         0      220  143.0  104.0  29.85         75       87   \n",
            "1             0         0      199  122.0   82.0  22.16         85       77   \n",
            "2             1         0      170  130.0   94.0  23.90        110       75   \n",
            "3             0         0      202  124.0   92.0  21.26         75       74   \n",
            "4             1         0      237  171.5  105.5  34.25         91      104   \n",
            "\n",
            "   edu_some_hs  edu_hs/ged  edu_some_college/voc  edu_college  \n",
            "0            1           0                     0            0  \n",
            "1            1           0                     0            0  \n",
            "2            0           1                     0            0  \n",
            "3            1           0                     0            0  \n",
            "4            1           0                     0            0  \n",
            "   TenYearCHD\n",
            "0           1\n",
            "1           0\n",
            "2           0\n",
            "3           0\n",
            "4           0\n"
          ]
        }
      ],
      "source": [
        "import pandas as pd\n",
        "import seaborn as sns\n",
        "import numpy as np\n",
        "import matplotlib.pyplot as plt\n",
        "from sklearn.linear_model import LinearRegression\n",
        "from sklearn.preprocessing import PolynomialFeatures\n",
        "\n",
        "\n",
        "X_train = pd.read_csv(\"/content/project_chd/X_train_df.csv\")\n",
        "y_train = pd.read_csv(\"/content/project_chd/y_train_df.csv\")\n",
        "\n",
        "# getting test sets\n",
        "X_test = pd.read_csv(\"/content/project_chd/X_test_df.csv\")\n",
        "y_test = pd.read_csv(\"/content/project_chd/y_test_df.csv\")\n",
        "\n",
        "\n",
        "# trying linear regression with all variables\n",
        "stock_reg = LinearRegression().fit(X_train, y_train)\n",
        "print(\"R^2 = \", stock_reg.score(X_test, y_test))\n",
        "\n",
        "# trying linear regression with min-max normalizing\n",
        "\n",
        "\n",
        "# trying linear regression with choosing correlated variables\n",
        "\n",
        "\n",
        "# trying linear regression with polynomial expanders (probably want to test multiple degrees)\n",
        "\n",
        "\n"
      ]
    }
  ],
  "metadata": {
    "colab": {
      "provenance": []
    },
    "kernelspec": {
      "display_name": "Python 3 (ipykernel)",
      "language": "python",
      "name": "python3"
    },
    "language_info": {
      "codemirror_mode": {
        "name": "ipython",
        "version": 3
      },
      "file_extension": ".py",
      "mimetype": "text/x-python",
      "name": "python",
      "nbconvert_exporter": "python",
      "pygments_lexer": "ipython3",
      "version": "3.10.4"
    }
  },
  "nbformat": 4,
  "nbformat_minor": 5
}