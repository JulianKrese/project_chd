{
  "cells": [
    {
      "cell_type": "markdown",
      "id": "b1bace51-d646-4ab1-abdf-4e2e65a091c8",
      "metadata": {
        "id": "b1bace51-d646-4ab1-abdf-4e2e65a091c8"
      },
      "source": [
        "# Models Work"
      ]
    },
    {
      "cell_type": "code",
      "source": [
        "! rm -r project_chd/"
      ],
      "metadata": {
        "id": "VZ1hUpx1MFWn"
      },
      "id": "VZ1hUpx1MFWn",
      "execution_count": 9,
      "outputs": []
    },
    {
      "cell_type": "code",
      "source": [
        "! git clone https://github.com/JulianKrese/project_chd/"
      ],
      "metadata": {
        "colab": {
          "base_uri": "https://localhost:8080/"
        },
        "id": "AnMJaWECxAxe",
        "outputId": "1b8560dc-10e5-4567-f8fb-f4c0f896b203"
      },
      "id": "AnMJaWECxAxe",
      "execution_count": 10,
      "outputs": [
        {
          "output_type": "stream",
          "name": "stdout",
          "text": [
            "Cloning into 'project_chd'...\n",
            "remote: Enumerating objects: 73, done.\u001b[K\n",
            "remote: Counting objects: 100% (44/44), done.\u001b[K\n",
            "remote: Compressing objects: 100% (42/42), done.\u001b[K\n",
            "remote: Total 73 (delta 22), reused 2 (delta 2), pack-reused 29\u001b[K\n",
            "Receiving objects: 100% (73/73), 2.04 MiB | 8.40 MiB/s, done.\n",
            "Resolving deltas: 100% (31/31), done.\n"
          ]
        }
      ]
    },
    {
      "cell_type": "code",
      "source": [
        "import pandas as pd\n",
        "import seaborn as sns\n",
        "import numpy as np\n",
        "import matplotlib.pyplot as plt\n",
        "from sklearn.linear_model import LinearRegression\n",
        "from sklearn.preprocessing import PolynomialFeatures, MinMaxScaler, StandardScaler\n",
        "from sklearn.neighbors import KNeighborsClassifier\n",
        "from sklearn.model_selection import train_test_split\n",
        "from sklearn.metrics import r2_score\n",
        "from sklearn.tree import DecisionTreeClassifier\n"
      ],
      "metadata": {
        "id": "nlgQ2ldgxVPG"
      },
      "id": "nlgQ2ldgxVPG",
      "execution_count": 23,
      "outputs": []
    },
    {
      "cell_type": "code",
      "source": [
        "# getting train sets\n",
        "X_train = pd.read_csv(\"/content/project_chd/X_train_cleaned.csv\")\n",
        "y_train = pd.read_csv(\"/content/project_chd/y_train_cleaned.csv\")\n",
        "\n",
        "# getting test sets\n",
        "X_test = pd.read_csv(\"/content/project_chd/X_test_cleaned.csv\")\n",
        "y_test = pd.read_csv(\"/content/project_chd/y_test_cleaned.csv\")"
      ],
      "metadata": {
        "id": "zoCJuq2TxaSQ"
      },
      "id": "zoCJuq2TxaSQ",
      "execution_count": 12,
      "outputs": []
    },
    {
      "cell_type": "code",
      "execution_count": 31,
      "id": "8yzZ57XtmyC-",
      "metadata": {
        "colab": {
          "base_uri": "https://localhost:8080/"
        },
        "id": "8yzZ57XtmyC-",
        "outputId": "fd61c48d-d099-4112-de8b-0ad59df01262"
      },
      "outputs": [
        {
          "output_type": "stream",
          "name": "stdout",
          "text": [
            "R^2 (all variables) =  0.09069686607234828\n",
            "R^2 (min-max normalized):  0.09069686607234895\n",
            "R^2 (correlated variables):  0.009601962516968432\n",
            "R^2 (polynomial features, degree 2):  0.014284325836945277\n"
          ]
        }
      ],
      "source": [
        "# trying linear regression with all variables\n",
        "stock_reg = LinearRegression().fit(X_train, y_train)\n",
        "print(\"R^2 (all variables) = \", stock_reg.score(X_test, y_test))\n",
        "\n",
        "# trying linear regression with min-max normalizing\n",
        "scaler = MinMaxScaler()\n",
        "X_train_norm = scaler.fit_transform(X_train)\n",
        "X_test_norm = scaler.transform(X_test)\n",
        "\n",
        "norm_reg = LinearRegression().fit(X_train_norm, y_train)\n",
        "print(\"R^2 (min-max normalized): \", norm_reg.score(X_test_norm, y_test))\n",
        "\n",
        "# trying linear regression with choosing correlated variables\n",
        "corr_matrix = X_train.corr()\n",
        "high_corr_vars = corr_matrix.index[abs(corr_matrix[\"BMI\"]) > 0.5]\n",
        "X_train_corr = X_train[high_corr_vars]\n",
        "X_test_corr = X_test[high_corr_vars]\n",
        "\n",
        "corr_reg = LinearRegression().fit(X_train_corr, y_train)\n",
        "print(\"R^2 (correlated variables): \", corr_reg.score(X_test_corr, y_test))\n",
        "\n",
        "# trying linear regression with polynomial expanders (probably want to test multiple degrees)\n",
        "poly = PolynomialFeatures(degree=2)\n",
        "X_train_poly = poly.fit_transform(X_train)\n",
        "X_test_poly = poly.transform(X_test)\n",
        "\n",
        "poly_reg = LinearRegression().fit(X_train_poly, y_train)\n",
        "print(\"R^2 (polynomial features, degree 2): \", poly_reg.score(X_test_poly, y_test))\n",
        "\n"
      ]
    },
    {
      "cell_type": "code",
      "source": [
        "# Create kNN model - best k seems to be 4\n",
        "knn = KNeighborsClassifier(n_neighbors=4)\n",
        "\n",
        "# Fit model\n",
        "knn.fit(X_train, y_train)\n",
        "\n",
        "# Make predictions on test set\n",
        "y_pred = knn.predict(X_test)\n",
        "\n",
        "r2 = r2_score(y_test, y_pred)\n",
        "print(\"R-squared:\", r2)"
      ],
      "metadata": {
        "colab": {
          "base_uri": "https://localhost:8080/"
        },
        "id": "xXTznQ3gw6Lb",
        "outputId": "3a43024c-e28a-4190-a9d8-f7929ae39b67"
      },
      "id": "xXTznQ3gw6Lb",
      "execution_count": 35,
      "outputs": [
        {
          "output_type": "stream",
          "name": "stdout",
          "text": [
            "R-squared: -0.24068814802691763\n"
          ]
        },
        {
          "output_type": "stream",
          "name": "stderr",
          "text": [
            "/usr/local/lib/python3.10/dist-packages/sklearn/neighbors/_classification.py:215: DataConversionWarning: A column-vector y was passed when a 1d array was expected. Please change the shape of y to (n_samples,), for example using ravel().\n",
            "  return self._fit(X, y)\n"
          ]
        }
      ]
    },
    {
      "cell_type": "code",
      "source": [
        "# Create decision tree - need to experiment with parameters\n",
        "dt = DecisionTreeClassifier(max_depth=3, random_state=42)\n",
        "\n",
        "# Fit model\n",
        "dt.fit(X_train, y_train)\n",
        "\n",
        "# Make predictions on test set\n",
        "y_pred = dt.predict(X_test)\n",
        "\n",
        "r2 = r2_score(y_test, y_pred)\n",
        "print(\"R-squared:\", r2)"
      ],
      "metadata": {
        "id": "q7gZdi2sM4gW",
        "outputId": "704d779e-af2d-4caa-a7ae-29bc27479472",
        "colab": {
          "base_uri": "https://localhost:8080/"
        }
      },
      "id": "q7gZdi2sM4gW",
      "execution_count": 33,
      "outputs": [
        {
          "output_type": "stream",
          "name": "stdout",
          "text": [
            "R-squared: -0.14389687406737073\n"
          ]
        }
      ]
    }
  ],
  "metadata": {
    "colab": {
      "provenance": []
    },
    "kernelspec": {
      "display_name": "Python 3 (ipykernel)",
      "language": "python",
      "name": "python3"
    },
    "language_info": {
      "codemirror_mode": {
        "name": "ipython",
        "version": 3
      },
      "file_extension": ".py",
      "mimetype": "text/x-python",
      "name": "python",
      "nbconvert_exporter": "python",
      "pygments_lexer": "ipython3",
      "version": "3.10.4"
    }
  },
  "nbformat": 4,
  "nbformat_minor": 5
}